{
 "cells": [
  {
   "cell_type": "markdown",
   "source": [
    "Python의 Numpy 라이브러리는 기본적인 상수 연산이 가능합니다."
   ],
   "metadata": {
    "collapsed": false
   }
  },
  {
   "cell_type": "code",
   "execution_count": 1,
   "outputs": [
    {
     "name": "stdout",
     "text": [
      "[[6 3]\n",
      " [7 8]]\n",
      "[[60 30]\n",
      " [70 80]]\n"
     ],
     "output_type": "stream"
    }
   ],
   "source": [
    "import numpy as np\n",
    "\n",
    "array = np.random.randint(1, 10, size=4).reshape(2, 2)\n",
    "print(array)\n",
    "result_array = array * 10\n",
    "print(result_array)"
   ],
   "metadata": {
    "collapsed": false,
    "pycharm": {
     "name": "#%%\n",
     "is_executing": false
    }
   }
  },
  {
   "cell_type": "code",
   "execution_count": 2,
   "outputs": [
    {
     "name": "stdout",
     "text": [
      "[[0 1]\n",
      " [2 3]]\n",
      "[0 1]\n",
      "[[0 2]\n",
      " [2 4]]\n"
     ],
     "output_type": "stream"
    }
   ],
   "source": [
    "array1 = np.arange(4).reshape(2, 2)\n",
    "array2 = np.arange(2)\n",
    "print(array1)\n",
    "print(array2)\n",
    "array3 = array1 + array2\n",
    "\n",
    "print(array3)"
   ],
   "metadata": {
    "collapsed": false,
    "pycharm": {
     "name": "#%%\n",
     "is_executing": false
    }
   }
  },
  {
   "cell_type": "code",
   "execution_count": 3,
   "outputs": [
    {
     "name": "stdout",
     "text": [
      "[[0 1 2 3]\n",
      " [4 5 6 7]]\n",
      "[[0 1 2 3]\n",
      " [4 5 6 7]]\n"
     ],
     "output_type": "stream"
    }
   ],
   "source": [
    "array1 = np.arange(0, 8).reshape(2, 4)\n",
    "array2 = np.arange(0, 8).reshape(2, 4)\n",
    "print(array1)\n",
    "print(array2)"
   ],
   "metadata": {
    "collapsed": false,
    "pycharm": {
     "name": "#%%\n",
     "is_executing": false
    }
   }
  },
  {
   "cell_type": "code",
   "execution_count": 4,
   "outputs": [
    {
     "name": "stdout",
     "text": [
      "[[0 1 2 3]\n",
      " [4 5 6 7]\n",
      " [0 1 2 3]\n",
      " [4 5 6 7]]\n",
      "[[0 1 2 3 0 1 2 3]\n",
      " [4 5 6 7 4 5 6 7]]\n"
     ],
     "output_type": "stream"
    }
   ],
   "source": [
    "array3 = np.concatenate([array1, array2], axis=0)\n",
    "print(array3)\n",
    "array5 = np.concatenate([array1, array2], axis=1)\n",
    "print(array5)"
   ],
   "metadata": {
    "collapsed": false,
    "pycharm": {
     "name": "#%%\n",
     "is_executing": false
    }
   }
  },
  {
   "cell_type": "code",
   "execution_count": 5,
   "outputs": [
    {
     "name": "stdout",
     "text": [
      "[[0 1 2 3]\n",
      " [4 5 6 7]\n",
      " [0 1 2 3]\n",
      " [4 5 6 7]]\n",
      "[[0]\n",
      " [1]\n",
      " [2]\n",
      " [3]]\n",
      "[[ 0  1  2  3]\n",
      " [ 5  6  7  8]\n",
      " [ 2  3  4  5]\n",
      " [ 7  8  9 10]]\n"
     ],
     "output_type": "stream"
    }
   ],
   "source": [
    "array4 = np.arange(0, 4).reshape(4, 1)\n",
    "print(array3)\n",
    "print(array4)\n",
    "print(array3+array4)"
   ],
   "metadata": {
    "collapsed": false,
    "pycharm": {
     "name": "#%%\n",
     "is_executing": false
    }
   }
  },
  {
   "cell_type": "markdown",
   "source": [
    "masking calculation"
   ],
   "metadata": {
    "collapsed": false
   }
  },
  {
   "cell_type": "code",
   "execution_count": 6,
   "outputs": [
    {
     "name": "stdout",
     "text": [
      "[[ 0  1  2  3  4  5  6  7]\n",
      " [ 8  9 10 11 12 13 14 15]]\n",
      "[[ True  True  True  True  True  True  True  True]\n",
      " [ True  True  True  True False False False False]]\n",
      "[[100 100 100 100 100 100 100 100]\n",
      " [100 100 100 100  12  13  14  15]]\n"
     ],
     "output_type": "stream"
    }
   ],
   "source": [
    "array1 = np.arange(16).reshape(2, 8)\n",
    "print(array1)\n",
    "\n",
    "array2 = array1 < 12\n",
    "print(array2)\n",
    "\n",
    "array1[array2] = 100\n",
    "print(array1)"
   ],
   "metadata": {
    "collapsed": false,
    "pycharm": {
     "name": "#%%\n",
     "is_executing": false
    }
   }
  },
  {
   "cell_type": "code",
   "execution_count": 7,
   "outputs": [
    {
     "name": "stdout",
     "text": [
      "최대값: 19\n",
      "최소값: 0\n",
      "합계: 190\n",
      "평균값: 9.5\n"
     ],
     "output_type": "stream"
    }
   ],
   "source": [
    "array = np.arange(20).reshape(4, 5)\n",
    "\n",
    "print(\"최대값:\", np.max(array))\n",
    "print(\"최소값:\", np.min(array))\n",
    "print(\"합계:\", np.sum(array))\n",
    "print(\"평균값:\", np.mean(array))"
   ],
   "metadata": {
    "collapsed": false,
    "pycharm": {
     "name": "#%%\n",
     "is_executing": false
    }
   }
  }
 ],
 "metadata": {
  "kernelspec": {
   "display_name": "Python 3",
   "language": "python",
   "name": "python3"
  },
  "language_info": {
   "codemirror_mode": {
    "name": "ipython",
    "version": 2
   },
   "file_extension": ".py",
   "mimetype": "text/x-python",
   "name": "python",
   "nbconvert_exporter": "python",
   "pygments_lexer": "ipython2",
   "version": "2.7.6"
  },
  "pycharm": {
   "stem_cell": {
    "cell_type": "raw",
    "source": [],
    "metadata": {
     "collapsed": false
    }
   }
  }
 },
 "nbformat": 4,
 "nbformat_minor": 0
}