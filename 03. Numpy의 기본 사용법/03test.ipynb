{
 "cells": [
  {
   "cell_type": "code",
   "execution_count": 5,
   "metadata": {
    "collapsed": true,
    "pycharm": {
     "is_executing": false
    }
   },
   "outputs": [
    {
     "name": "stdout",
     "text": [
      "3\n",
      "int32\n",
      "2\n"
     ],
     "output_type": "stream"
    }
   ],
   "source": [
    "## Numpy의 기본 사용법\n",
    "\n",
    "import numpy as np\n",
    "\n",
    "array = np.array([1, 2, 3])\n",
    "print(array.size) # 배열의 크기\n",
    "print(array.dtype) # 배열 원소의 타입\n",
    "print(array[1]) # 인덱스 2의 원소"
   ]
  },
  {
   "cell_type": "code",
   "execution_count": 2,
   "outputs": [
    {
     "name": "stdout",
     "text": [
      "[ 0  1  2  3  4  5  6  7  8  9 10]\n"
     ],
     "output_type": "stream"
    }
   ],
   "source": [
    "# 0부터 10까지의 배열 만들기\n",
    "array1 = np.arange(11)\n",
    "print(array1)"
   ],
   "metadata": {
    "collapsed": false,
    "pycharm": {
     "name": "#%%\n",
     "is_executing": false
    }
   }
  },
  {
   "cell_type": "code",
   "execution_count": 7,
   "outputs": [
    {
     "name": "stdout",
     "text": [
      "[[0 0 0 0 0]\n",
      " [0 0 0 0 0]\n",
      " [0 0 0 0 0]]\n"
     ],
     "output_type": "stream"
    }
   ],
   "source": [
    "# 0으로 초기화\n",
    "array2 = np.zeros((3,5), dtype=int)\n",
    "print(array2)\n"
   ],
   "metadata": {
    "collapsed": false,
    "pycharm": {
     "name": "#%%\n",
     "is_executing": false
    }
   }
  },
  {
   "cell_type": "code",
   "execution_count": 8,
   "outputs": [
    {
     "name": "stdout",
     "text": [
      "[['1' '1' '1']\n",
      " ['1' '1' '1']]\n"
     ],
     "output_type": "stream"
    }
   ],
   "source": [
    "# 1로 초기화\n",
    "array3 = np.ones((2, 3), dtype=str)\n",
    "print(array3)"
   ],
   "metadata": {
    "collapsed": false,
    "pycharm": {
     "name": "#%%\n",
     "is_executing": false
    }
   }
  },
  {
   "cell_type": "code",
   "execution_count": 10,
   "outputs": [
    {
     "name": "stdout",
     "text": [
      "[[16  0  0  9]\n",
      " [ 4  3  3 19]]\n"
     ],
     "output_type": "stream"
    }
   ],
   "source": [
    "# 0부터 7까지 랜덤하게 초기화 된 배열 만들기\n",
    "array4 = np.random.randint(0, 20, (2, 4))\n",
    "print(array4)"
   ],
   "metadata": {
    "collapsed": false,
    "pycharm": {
     "name": "#%%\n",
     "is_executing": false
    }
   }
  },
  {
   "cell_type": "code",
   "execution_count": 11,
   "outputs": [
    {
     "name": "stdout",
     "text": [
      "[[ 0.89205426  0.46884233 -0.83535054]\n",
      " [-1.43746154 -0.01650154 -0.55262402]\n",
      " [-0.48794449  0.69762217 -0.25658563]\n",
      " [-0.40033791 -1.9697756   0.81777718]]\n"
     ],
     "output_type": "stream"
    }
   ],
   "source": [
    "# 평균이 0이고 표준편차가 1인 표준 정규를 띄는 배열\n",
    "array5 = np.random.normal(0, 1, (4, 3))\n",
    "print(array5)"
   ],
   "metadata": {
    "collapsed": false,
    "pycharm": {
     "name": "#%%\n",
     "is_executing": false
    }
   }
  },
  {
   "cell_type": "code",
   "execution_count": 13,
   "outputs": [
    {
     "name": "stdout",
     "text": [
      "(7,)\n",
      "[1 2 3 4 5 6 8]\n"
     ],
     "output_type": "stream"
    }
   ],
   "source": [
    "array1 = np.array([1, 2, 3]) \n",
    "array2 = np.array([4, 5, 6, 8])\n",
    "array3 = np.concatenate([array1, array2])\n",
    "\n",
    "print(array3.shape)\n",
    "print(array3)"
   ],
   "metadata": {
    "collapsed": false,
    "pycharm": {
     "name": "#%%\n",
     "is_executing": false
    }
   }
  },
  {
   "cell_type": "code",
   "execution_count": 23,
   "outputs": [
    {
     "name": "stdout",
     "text": [
      "[[0]\n",
      " [1]]\n",
      "[[0 1 2 3]\n",
      " [4 5 6 7]]\n",
      "(2, 5)\n",
      "[[0 0 1 2 3]\n",
      " [1 4 5 6 7]]\n"
     ],
     "output_type": "stream"
    }
   ],
   "source": [
    "array1 = np.arange(2).reshape(2, 1)\n",
    "array2 = np.arange(8).reshape(2, 4)\n",
    "array3 = np.concatenate([array1, array2], axis=1)\n",
    "print(array1)\n",
    "print(array2)\n",
    "print(array3.shape)\n",
    "print(array3)"
   ],
   "metadata": {
    "collapsed": false,
    "pycharm": {
     "name": "#%%\n",
     "is_executing": false
    }
   }
  },
  {
   "cell_type": "code",
   "execution_count": 25,
   "outputs": [
    {
     "name": "stdout",
     "text": [
      "(2, 2)\n",
      "(2, 2)\n",
      "(2, 2)\n",
      "7\n"
     ],
     "output_type": "stream"
    }
   ],
   "source": [
    "array1 = np.array([1, 2, 3, 4])\n",
    "array2 = array1.reshape((2, 2))\n",
    "print(array2.shape)"
   ],
   "metadata": {
    "collapsed": false,
    "pycharm": {
     "name": "#%%\n",
     "is_executing": false
    }
   }
  },
  {
   "cell_type": "code",
   "execution_count": 26,
   "outputs": [
    {
     "name": "stdout",
     "text": [
      "[[0 1 2 3]\n",
      " [4 5 6 7]]\n",
      "(2, 2)\n",
      "(2, 2)\n",
      "7\n"
     ],
     "output_type": "stream"
    }
   ],
   "source": [
    "array = np.arange(8).reshape(2, 4)\n",
    "left, right = np.split(array, [2], axis=1)\n",
    "print(array)\n",
    "print(left.shape)\n",
    "print(right.shape)\n",
    "print(right[1][1])"
   ],
   "metadata": {
    "collapsed": false,
    "pycharm": {
     "name": "#%%\n",
     "is_executing": false
    }
   }
  },
  {
   "cell_type": "code",
   "execution_count": 45,
   "outputs": [
    {
     "name": "stdout",
     "text": [
      "[[10 11]\n",
      " [12 13]\n",
      " [14 15]\n",
      " [16 17]\n",
      " [18 19]]\n"
     ],
     "output_type": "stream"
    }
   ],
   "source": [
    "array2 = np.arange(10,20,1).reshape(5,2) #start, end, step\n",
    "print(array2)"
   ],
   "metadata": {
    "collapsed": false,
    "pycharm": {
     "name": "#%%\n",
     "is_executing": false
    }
   }
  },
  {
   "cell_type": "code",
   "execution_count": 47,
   "outputs": [
    {
     "name": "stdout",
     "text": [
      "(3, 2)\n",
      "(2, 2)\n",
      "19\n"
     ],
     "output_type": "stream"
    }
   ],
   "source": [
    "low, high = np.split(array2, [3], axis=0)\n",
    "print(low.shape)\n",
    "print(high.shape)\n",
    "print(high[1][1])"
   ],
   "metadata": {
    "collapsed": false,
    "pycharm": {
     "name": "#%%\n",
     "is_executing": false
    }
   }
  }
 ],
 "metadata": {
  "kernelspec": {
   "display_name": "Python 3",
   "language": "python",
   "name": "python3"
  },
  "language_info": {
   "codemirror_mode": {
    "name": "ipython",
    "version": 2
   },
   "file_extension": ".py",
   "mimetype": "text/x-python",
   "name": "python",
   "nbconvert_exporter": "python",
   "pygments_lexer": "ipython2",
   "version": "2.7.6"
  },
  "pycharm": {
   "stem_cell": {
    "cell_type": "raw",
    "source": [],
    "metadata": {
     "collapsed": false
    }
   }
  }
 },
 "nbformat": 4,
 "nbformat_minor": 0
}