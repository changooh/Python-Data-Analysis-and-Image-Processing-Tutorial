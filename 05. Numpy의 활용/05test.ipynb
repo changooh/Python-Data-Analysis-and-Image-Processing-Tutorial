{
 "cells": [
  {
   "cell_type": "code",
   "execution_count": 1,
   "metadata": {
    "collapsed": true,
    "pycharm": {
     "is_executing": false
    }
   },
   "outputs": [
    {
     "name": "stdout",
     "text": [
      "[0 1 2 3 4 5 6 7 8 9]\n"
     ],
     "output_type": "stream"
    }
   ],
   "source": [
    "import numpy as np\n",
    "\n",
    "# 단일 객체 저장 및 불러오기\n",
    "array = np.arange(0, 10)\n",
    "np.save('saved.npy', array)\n",
    "\n",
    "result = np.load('saved.npy')\n",
    "print(result)"
   ]
  },
  {
   "cell_type": "code",
   "execution_count": 2,
   "outputs": [
    {
     "name": "stdout",
     "text": [
      "[0 1 2 3 4 5 6 7 8 9]\n",
      "[10 11 12 13 14 15 16 17 18 19]\n",
      "[0 1 2 3 4 5 6 7 8 9]\n",
      "[10 11 12 13 14 15 16 17 18 19]\n"
     ],
     "output_type": "stream"
    }
   ],
   "source": [
    "# 복수 객체 저장 및 불러오기\n",
    "array1 = np.arange(0, 10)\n",
    "array2 = np.arange(10, 20)\n",
    "print(array1)\n",
    "print(array2)\n",
    "\n",
    "np.savez('saved.npz', array1=array1, array2=array2)\n",
    "\n",
    "data = np.load('saved.npz')\n",
    "result1 = data['array1']\n",
    "result2 = data['array2']\n",
    "print(result1)\n",
    "print(result2)"
   ],
   "metadata": {
    "collapsed": false,
    "pycharm": {
     "name": "#%%\n",
     "is_executing": false
    }
   }
  },
  {
   "cell_type": "code",
   "execution_count": 3,
   "outputs": [
    {
     "name": "stdout",
     "text": [
      "[ 1  3  5  9 10]\n",
      "[10  9  5  3  1]\n",
      "[[ 5  3  4  2  1]\n",
      " [ 8  9 10  3  5]]\n"
     ],
     "output_type": "stream"
    }
   ],
   "source": [
    "# Numpy 원소 오름차순 정렬\n",
    "array = np.array([5, 9, 10, 3, 1])\n",
    "array.sort()\n",
    "print(array)\n",
    "\n",
    "# Numpy 원소 내림차순 정렬\n",
    "array = np.array([5, 9, 10, 3, 1])\n",
    "array.sort()\n",
    "print(array[::-1])"
   ],
   "metadata": {
    "collapsed": false,
    "pycharm": {
     "name": "#%%\n",
     "is_executing": false
    }
   }
  },
  {
   "cell_type": "code",
   "execution_count": 7,
   "outputs": [
    {
     "name": "stdout",
     "text": [
      "[[ 5  9 10  3  1]\n",
      " [ 8  3  4  2  5]]\n",
      "9\n",
      "3\n",
      "3\n",
      "9\n"
     ],
     "output_type": "stream"
    }
   ],
   "source": [
    "# 각 row 열을 기준으로 정렬 \n",
    "array = np.array([[5, 9, 10, 3, 1], [8, 3, 4, 2, 5]])\n",
    "print(array)\n",
    "print(array[0][1])\n",
    "print(array[1][1])\n",
    "array.sort(axis=0)\n",
    "print(array[0][1])\n",
    "print(array[1][1])"
   ],
   "metadata": {
    "collapsed": false,
    "pycharm": {
     "name": "#%%\n",
     "is_executing": false
    }
   }
  },
  {
   "cell_type": "code",
   "execution_count": 9,
   "outputs": [
    {
     "name": "stdout",
     "text": [
      "[ 0.   2.5  5.   7.5 10. ]\n"
     ],
     "output_type": "stream"
    }
   ],
   "source": [
    "# 0 ~ 10, 5 elements, 균일한 간격으로 데이터 생성\n",
    "array = np.linspace(0, 10, 5)\n",
    "print(array)"
   ],
   "metadata": {
    "collapsed": false,
    "pycharm": {
     "name": "#%%\n",
     "is_executing": false
    }
   }
  },
  {
   "cell_type": "code",
   "execution_count": 16,
   "outputs": [
    {
     "name": "stdout",
     "text": [
      "[[4 9 6]\n",
      " [3 3 7]]\n",
      "[[ 7 14  8]\n",
      " [14 10  8]]\n",
      "[[ 7  6  4]\n",
      " [16  7 12]]\n",
      "[[ 0 11  6]\n",
      " [19  5 24]]\n",
      "[[4 9 6]\n",
      " [3 3 7]]\n",
      "[[ 7 14  8]\n",
      " [14 10  8]]\n",
      "[[ 7  6  4]\n",
      " [16  7 12]]\n",
      "[[ 0 11  6]\n",
      " [19  5 24]]\n"
     ],
     "output_type": "stream"
    }
   ],
   "source": [
    "# 난수의 재연(실행마다 결과 동일)\n",
    "np.random.seed(7)\n",
    "print(np.random.randint(0, 10, (2, 3)))\n",
    "print(np.random.randint(0, 20, (2, 3)))\n",
    "print(np.random.randint(0, 30, (2, 3)))\n",
    "print(np.random.randint(0, 40, (2, 3)))\n",
    "\n",
    "np.random.seed(7)\n",
    "print(np.random.randint(0, 10, (2, 3)))\n",
    "print(np.random.randint(0, 20, (2, 3)))\n",
    "print(np.random.randint(0, 30, (2, 3)))\n",
    "print(np.random.randint(0, 40, (2, 3)))"
   ],
   "metadata": {
    "collapsed": false,
    "pycharm": {
     "name": "#%%\n",
     "is_executing": false
    }
   }
  },
  {
   "cell_type": "code",
   "execution_count": 18,
   "outputs": [
    {
     "name": "stdout",
     "text": [
      "[0 1 2 3 4 5 6 7 8 9]\n",
      "[0 1 2 3 4 5 6 7 8 9]\n"
     ],
     "output_type": "stream"
    }
   ],
   "source": [
    "# Numpy 배열 객체 복사\n",
    "array1 = np.arange(0, 10)\n",
    "array2 = array1.copy()\n",
    "print(array1)\n",
    "print(array2)"
   ],
   "metadata": {
    "collapsed": false,
    "pycharm": {
     "name": "#%%\n",
     "is_executing": false
    }
   }
  },
  {
   "cell_type": "code",
   "execution_count": 19,
   "outputs": [
    {
     "name": "stdout",
     "text": [
      "[1 2 3]\n"
     ],
     "output_type": "stream"
    }
   ],
   "source": [
    "# 중복된 원소 제거\n",
    "array = np.array([1, 1, 2, 3, 3, 3, 1])\n",
    "print(np.unique(array))"
   ],
   "metadata": {
    "collapsed": false,
    "pycharm": {
     "name": "#%%\n",
     "is_executing": false
    }
   }
  }
 ],
 "metadata": {
  "kernelspec": {
   "display_name": "Python 3",
   "language": "python",
   "name": "python3"
  },
  "language_info": {
   "codemirror_mode": {
    "name": "ipython",
    "version": 2
   },
   "file_extension": ".py",
   "mimetype": "text/x-python",
   "name": "python",
   "nbconvert_exporter": "python",
   "pygments_lexer": "ipython2",
   "version": "2.7.6"
  },
  "pycharm": {
   "stem_cell": {
    "cell_type": "raw",
    "source": [],
    "metadata": {
     "collapsed": false
    }
   }
  }
 },
 "nbformat": 4,
 "nbformat_minor": 0
}